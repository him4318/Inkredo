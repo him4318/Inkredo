{
 "cells": [
  {
   "cell_type": "markdown",
   "metadata": {},
   "source": [
    "### Importing libraries"
   ]
  },
  {
   "cell_type": "code",
   "execution_count": 29,
   "metadata": {},
   "outputs": [],
   "source": [
    "import pandas as pd\n",
    "import numpy as np\n",
    "import datetime\n",
    "import matplotlib.pyplot as plt\n",
    "from sklearn import metrics\n",
    "import itertools\n",
    "from lightgbm import LGBMClassifier\n",
    "import lightgbm as lgb\n",
    "from sklearn.model_selection import cross_val_score,cross_val_predict\n",
    "import collections\n",
    "import statistics\n",
    "%matplotlib inline\n",
    "plt.style.use('seaborn-pastel')\n",
    "\n",
    "import warnings\n",
    "warnings.filterwarnings('ignore')\n",
    "import os\n",
    "os.environ[\"PATH\"] += os.pathsep + r'Graphviz2.38\\bin'"
   ]
  },
  {
   "cell_type": "code",
   "execution_count": 2,
   "metadata": {
    "scrolled": true
   },
   "outputs": [],
   "source": [
    "data = pd.read_csv(r'events_log.csv')\n",
    "data.timestamp = data.timestamp.astype('str')\n",
    "data['time'] = data.timestamp.apply(lambda x: datetime.datetime.strptime(x[:-2], '%Y%m%d%H%M%S')) "
   ]
  },
  {
   "cell_type": "code",
   "execution_count": 3,
   "metadata": {},
   "outputs": [
    {
     "data": {
      "text/html": [
       "<div>\n",
       "<style scoped>\n",
       "    .dataframe tbody tr th:only-of-type {\n",
       "        vertical-align: middle;\n",
       "    }\n",
       "\n",
       "    .dataframe tbody tr th {\n",
       "        vertical-align: top;\n",
       "    }\n",
       "\n",
       "    .dataframe thead th {\n",
       "        text-align: right;\n",
       "    }\n",
       "</style>\n",
       "<table border=\"1\" class=\"dataframe\">\n",
       "  <thead>\n",
       "    <tr style=\"text-align: right;\">\n",
       "      <th></th>\n",
       "      <th>uuid</th>\n",
       "      <th>timestamp</th>\n",
       "      <th>session_id</th>\n",
       "      <th>group</th>\n",
       "      <th>action</th>\n",
       "      <th>checkin</th>\n",
       "      <th>page_id</th>\n",
       "      <th>n_results</th>\n",
       "      <th>result_position</th>\n",
       "      <th>time</th>\n",
       "    </tr>\n",
       "  </thead>\n",
       "  <tbody>\n",
       "    <tr>\n",
       "      <th>0</th>\n",
       "      <td>00000736167c507e8ec225bd9e71f9e5</td>\n",
       "      <td>20160301103842.0</td>\n",
       "      <td>78245c2c3fba013a</td>\n",
       "      <td>b</td>\n",
       "      <td>searchResultPage</td>\n",
       "      <td>NaN</td>\n",
       "      <td>cbeb66d1bc1f1bc2</td>\n",
       "      <td>5.0</td>\n",
       "      <td>NaN</td>\n",
       "      <td>2016-03-01 10:38:42</td>\n",
       "    </tr>\n",
       "    <tr>\n",
       "      <th>1</th>\n",
       "      <td>00000c69fe345268935463abbfa5d5b3</td>\n",
       "      <td>20160307005226.0</td>\n",
       "      <td>c559c3be98dca8a4</td>\n",
       "      <td>a</td>\n",
       "      <td>searchResultPage</td>\n",
       "      <td>NaN</td>\n",
       "      <td>eb658e8722aad674</td>\n",
       "      <td>10.0</td>\n",
       "      <td>NaN</td>\n",
       "      <td>2016-03-07 00:52:26</td>\n",
       "    </tr>\n",
       "    <tr>\n",
       "      <th>2</th>\n",
       "      <td>00003bfdab715ee59077a3670331b787</td>\n",
       "      <td>20160302145305.0</td>\n",
       "      <td>760bf89817ce4b08</td>\n",
       "      <td>a</td>\n",
       "      <td>checkin</td>\n",
       "      <td>30.0</td>\n",
       "      <td>f99a9fc1f7fdd21e</td>\n",
       "      <td>NaN</td>\n",
       "      <td>NaN</td>\n",
       "      <td>2016-03-02 14:53:05</td>\n",
       "    </tr>\n",
       "    <tr>\n",
       "      <th>3</th>\n",
       "      <td>0000465cd7c35ad2bdeafec953e08c1a</td>\n",
       "      <td>20160302222701.0</td>\n",
       "      <td>fb905603d31b2071</td>\n",
       "      <td>a</td>\n",
       "      <td>checkin</td>\n",
       "      <td>60.0</td>\n",
       "      <td>e5626962a6939a75</td>\n",
       "      <td>NaN</td>\n",
       "      <td>10.0</td>\n",
       "      <td>2016-03-02 22:27:01</td>\n",
       "    </tr>\n",
       "    <tr>\n",
       "      <th>4</th>\n",
       "      <td>000050cbb4ef5b42b16c4d2cf69e6358</td>\n",
       "      <td>20160302095023.0</td>\n",
       "      <td>c2bf5e5172a892dc</td>\n",
       "      <td>a</td>\n",
       "      <td>checkin</td>\n",
       "      <td>30.0</td>\n",
       "      <td>787dd6a4c371cbf9</td>\n",
       "      <td>NaN</td>\n",
       "      <td>NaN</td>\n",
       "      <td>2016-03-02 09:50:23</td>\n",
       "    </tr>\n",
       "  </tbody>\n",
       "</table>\n",
       "</div>"
      ],
      "text/plain": [
       "                               uuid         timestamp        session_id group  \\\n",
       "0  00000736167c507e8ec225bd9e71f9e5  20160301103842.0  78245c2c3fba013a     b   \n",
       "1  00000c69fe345268935463abbfa5d5b3  20160307005226.0  c559c3be98dca8a4     a   \n",
       "2  00003bfdab715ee59077a3670331b787  20160302145305.0  760bf89817ce4b08     a   \n",
       "3  0000465cd7c35ad2bdeafec953e08c1a  20160302222701.0  fb905603d31b2071     a   \n",
       "4  000050cbb4ef5b42b16c4d2cf69e6358  20160302095023.0  c2bf5e5172a892dc     a   \n",
       "\n",
       "             action  checkin           page_id  n_results  result_position  \\\n",
       "0  searchResultPage      NaN  cbeb66d1bc1f1bc2        5.0              NaN   \n",
       "1  searchResultPage      NaN  eb658e8722aad674       10.0              NaN   \n",
       "2           checkin     30.0  f99a9fc1f7fdd21e        NaN              NaN   \n",
       "3           checkin     60.0  e5626962a6939a75        NaN             10.0   \n",
       "4           checkin     30.0  787dd6a4c371cbf9        NaN              NaN   \n",
       "\n",
       "                 time  \n",
       "0 2016-03-01 10:38:42  \n",
       "1 2016-03-07 00:52:26  \n",
       "2 2016-03-02 14:53:05  \n",
       "3 2016-03-02 22:27:01  \n",
       "4 2016-03-02 09:50:23  "
      ]
     },
     "execution_count": 3,
     "metadata": {},
     "output_type": "execute_result"
    }
   ],
   "source": [
    "data.head()"
   ]
  },
  {
   "cell_type": "code",
   "execution_count": 4,
   "metadata": {},
   "outputs": [
    {
     "data": {
      "text/plain": [
       "uuid               400165\n",
       "timestamp          294302\n",
       "session_id          68028\n",
       "group                   2\n",
       "action                  3\n",
       "checkin                15\n",
       "page_id            176371\n",
       "n_results              92\n",
       "result_position       193\n",
       "time               294302\n",
       "dtype: int64"
      ]
     },
     "execution_count": 4,
     "metadata": {},
     "output_type": "execute_result"
    }
   ],
   "source": [
    "data.nunique()"
   ]
  },
  {
   "cell_type": "markdown",
   "metadata": {},
   "source": [
    "## What is their daily overall clickthrough rate? How does it vary between the groups?\n"
   ]
  },
  {
   "cell_type": "markdown",
   "metadata": {},
   "source": [
    "\n",
    "***Overall clickthrough rate:***"
   ]
  },
  {
   "cell_type": "code",
   "execution_count": 5,
   "metadata": {},
   "outputs": [],
   "source": [
    "data['stamp'] = data.timestamp.apply(lambda x: str(x)[:8] ) #storing the first 8 letters which will uniquely determine the day\n",
    "sessionids = data[(data.action == 'searchResultPage') & ((data.n_results > 0))].session_id.values\n",
    "clickthroughdata = data[data.session_id.isin(sessionids)]"
   ]
  },
  {
   "cell_type": "code",
   "execution_count": 6,
   "metadata": {
    "scrolled": true
   },
   "outputs": [],
   "source": [
    "d = {}\n",
    "for stamp in set(data.stamp):\n",
    "    temp = clickthroughdata[clickthroughdata.stamp == stamp]\n",
    "    usercountwhoclicked = sum(temp.groupby(['session_id'])['checkin'].count() > 0)\n",
    "    totalusers = len(temp.groupby(['session_id'])['checkin'].count())\n",
    "    d[stamp] = usercountwhoclicked/totalusers\n"
   ]
  },
  {
   "cell_type": "code",
   "execution_count": 54,
   "metadata": {},
   "outputs": [
    {
     "data": {
      "text/plain": [
       "{'20160303': 0.39754246476328153,\n",
       " '20160308': 0.3786366830639494,\n",
       " '20160301': 0.3948529411764706,\n",
       " '20160304': 0.38167211328976036,\n",
       " '20160305': 0.3753835663143539,\n",
       " '20160306': 0.38017640902975036,\n",
       " '20160302': 0.40414317234616326,\n",
       " '20160307': 0.3805016564126834}"
      ]
     },
     "execution_count": 54,
     "metadata": {},
     "output_type": "execute_result"
    }
   ],
   "source": [
    "d"
   ]
  },
  {
   "cell_type": "code",
   "execution_count": 7,
   "metadata": {},
   "outputs": [],
   "source": [
    "od = collections.OrderedDict()\n",
    "for k,v in sorted(d.items()):\n",
    "    od[k[6:]] = v\n"
   ]
  },
  {
   "cell_type": "code",
   "execution_count": 8,
   "metadata": {},
   "outputs": [
    {
     "data": {
      "image/png": "[encoded data removed]",
      "text/plain": [
       "<Figure size 1080x360 with 1 Axes>"
      ]
     },
     "metadata": {},
     "output_type": "display_data"
    }
   ],
   "source": [
    "plt.figure(figsize=(15,5))\n",
    "plt.bar(range(len(od)), list(od.values()), align='center')\n",
    "plt.xticks(range(len(od)), list(od.keys()))\n",
    "plt.xlabel(\"Days\")\n",
    "plt.ylabel(\"Over all clickthrough rate\")\n",
    "plt.show()"
   ]
  },
  {
   "cell_type": "markdown",
   "metadata": {},
   "source": [
    "***variation between groups:***"
   ]
  },
  {
   "cell_type": "code",
   "execution_count": 9,
   "metadata": {},
   "outputs": [],
   "source": [
    "A = clickthroughdata[clickthroughdata.group == 'a']\n",
    "B = clickthroughdata[clickthroughdata.group == 'b']"
   ]
  },
  {
   "cell_type": "code",
   "execution_count": 10,
   "metadata": {},
   "outputs": [
    {
     "data": {
      "image/png": "[encoded data removed]",
      "text/plain": [
       "<Figure size 1080x360 with 1 Axes>"
      ]
     },
     "metadata": {},
     "output_type": "display_data"
    }
   ],
   "source": [
    "d = {}\n",
    "for stamp in set(data.stamp):\n",
    "    temp = A[A.stamp == stamp]\n",
    "    usercountwhoclicked = sum(temp.groupby(['session_id'])['checkin'].count() > 0)\n",
    "    totalusers = len(temp.groupby(['session_id'])['checkin'].count())\n",
    "    d[stamp] = usercountwhoclicked/totalusers\n",
    "\n",
    "    \n",
    "od = collections.OrderedDict()\n",
    "for k,v in sorted(d.items()):\n",
    "    od[k[6:]] = v\n",
    "\n",
    "    \n",
    "plt.figure(figsize=(15,5))\n",
    "plt.bar(range(len(od)), list(od.values()), align='center')\n",
    "plt.xticks(range(len(od)), list(od.keys()))\n",
    "plt.xlabel(\"Days\")\n",
    "plt.ylabel(\"Over all clickthrough rate\")\n",
    "plt.title(\"Group A\")\n",
    "plt.show()"
   ]
  },
  {
   "cell_type": "code",
   "execution_count": 11,
   "metadata": {},
   "outputs": [
    {
     "data": {
      "image/png": "[encoded data removed]",
      "text/plain": [
       "<Figure size 1080x360 with 1 Axes>"
      ]
     },
     "metadata": {},
     "output_type": "display_data"
    }
   ],
   "source": [
    "d = {}\n",
    "for stamp in set(data.stamp):\n",
    "    temp = B[B.stamp == stamp]\n",
    "    usercountwhoclicked = sum(temp.groupby(['session_id'])['checkin'].count() > 0)\n",
    "    totalusers = len(temp.groupby(['session_id'])['checkin'].count())\n",
    "    d[stamp] = usercountwhoclicked/totalusers\n",
    "\n",
    "    \n",
    "od = collections.OrderedDict()\n",
    "for k,v in sorted(d.items()):\n",
    "    od[k[6:]] = v\n",
    "\n",
    "    \n",
    "plt.figure(figsize=(15,5))\n",
    "plt.bar(range(len(od)), list(od.values()), align='center')\n",
    "plt.xticks(range(len(od)), list(od.keys()))\n",
    "plt.xlabel(\"Days\")\n",
    "plt.ylabel(\"Over all clickthrough rate\")\n",
    "plt.title(\"Group B\")\n",
    "plt.show()"
   ]
  },
  {
   "cell_type": "markdown",
   "metadata": {},
   "source": [
    "## Q.  Which result position do people tend to try first? How does it change day-to-day?\n"
   ]
  },
  {
   "cell_type": "code",
   "execution_count": 54,
   "metadata": {
    "scrolled": true
   },
   "outputs": [],
   "source": [
    "d = {}\n",
    "for stamp in set(data.stamp):\n",
    "    temp = clickthroughdata[(clickthroughdata.stamp == stamp) & (clickthroughdata.action=='checkin')]\n",
    "    temp.sort_values(by=['time'],inplace=True)\n",
    "    t = temp.groupby('session_id')['result_position'].first().values\n",
    "    d[stamp] = statistics.mode(t)"
   ]
  },
  {
   "cell_type": "code",
   "execution_count": 58,
   "metadata": {
    "scrolled": true
   },
   "outputs": [
    {
     "data": {
      "image/png": "[encoded data removed]",
      "text/plain": [
       "<Figure size 1080x360 with 1 Axes>"
      ]
     },
     "metadata": {},
     "output_type": "display_data"
    }
   ],
   "source": [
    "od = collections.OrderedDict()\n",
    "for k,v in sorted(d.items()):\n",
    "    od[k[6:]] = v\n",
    "\n",
    "    \n",
    "plt.figure(figsize=(15,5))\n",
    "plt.bar(range(len(od)), list(od.values()), align='center')\n",
    "plt.xticks(range(len(od)), list(od.keys()))\n",
    "plt.xlabel(\"Days\")\n",
    "plt.ylabel(\"result_position\")\n",
    "plt.show()"
   ]
  },
  {
   "cell_type": "markdown",
   "metadata": {},
   "source": [
    "## Q. What is their daily overall zero results rate? How does it vary between the groups?\n"
   ]
  },
  {
   "cell_type": "code",
   "execution_count": 12,
   "metadata": {},
   "outputs": [],
   "source": [
    "Zeroresult = data[(data.action == 'searchResultPage') & (data.n_results == 0)]\n"
   ]
  },
  {
   "cell_type": "code",
   "execution_count": 13,
   "metadata": {},
   "outputs": [
    {
     "data": {
      "image/png": "[encoded data removed]",
      "text/plain": [
       "<Figure size 1080x360 with 1 Axes>"
      ]
     },
     "metadata": {},
     "output_type": "display_data"
    }
   ],
   "source": [
    "d = {}\n",
    "for stamp in set(data.stamp):\n",
    "    temp = Zeroresult[Zeroresult.stamp==stamp]\n",
    "    d[stamp] = len(temp)/len(data[(data.action == 'searchResultPage') & (data.stamp == stamp)])\n",
    "\n",
    "    \n",
    "od = collections.OrderedDict()\n",
    "for k,v in sorted(d.items()):\n",
    "    od[k[6:]] = v\n",
    "\n",
    "    \n",
    "plt.figure(figsize=(15,5))\n",
    "plt.bar(range(len(od)), list(od.values()), align='center')\n",
    "plt.xticks(range(len(od)), list(od.keys()))\n",
    "plt.xlabel(\"Days\")\n",
    "plt.ylabel(\"Zeroresult rate\")\n",
    "plt.show()"
   ]
  },
  {
   "cell_type": "markdown",
   "metadata": {},
   "source": [
    "***variation between groups:***"
   ]
  },
  {
   "cell_type": "code",
   "execution_count": 14,
   "metadata": {},
   "outputs": [],
   "source": [
    "ZA = Zeroresult[Zeroresult.group == 'a']\n",
    "ZB = Zeroresult[Zeroresult.group == 'b']"
   ]
  },
  {
   "cell_type": "code",
   "execution_count": 15,
   "metadata": {},
   "outputs": [
    {
     "data": {
      "image/png": "[encoded data removed]",
      "text/plain": [
       "<Figure size 1080x360 with 1 Axes>"
      ]
     },
     "metadata": {},
     "output_type": "display_data"
    }
   ],
   "source": [
    "d = {}\n",
    "for stamp in set(data.stamp):\n",
    "    temp = ZA[ZA.stamp==stamp]\n",
    "    d[stamp] = len(temp)/len(data[(data.action == 'searchResultPage') & (data.stamp == stamp) & (data.group == 'a')])\n",
    "\n",
    "    \n",
    "od = collections.OrderedDict()\n",
    "for k,v in sorted(d.items()):\n",
    "    od[k[6:]] = v\n",
    "\n",
    "    \n",
    "plt.figure(figsize=(15,5))\n",
    "plt.bar(range(len(od)), list(od.values()), align='center')\n",
    "plt.xticks(range(len(od)), list(od.keys()))\n",
    "plt.xlabel(\"Days\")\n",
    "plt.ylabel(\"Zeroresult rate\")\n",
    "plt.show()"
   ]
  },
  {
   "cell_type": "code",
   "execution_count": 16,
   "metadata": {},
   "outputs": [
    {
     "data": {
      "image/png": "[encoded data removed]",
      "text/plain": [
       "<Figure size 1080x360 with 1 Axes>"
      ]
     },
     "metadata": {},
     "output_type": "display_data"
    }
   ],
   "source": [
    "d = {}\n",
    "for stamp in set(data.stamp):\n",
    "    temp = ZB[ZB.stamp==stamp]\n",
    "    d[stamp] = len(temp)/len(data[(data.action == 'searchResultPage') & (data.stamp == stamp) & (data.group == 'b')])\n",
    "\n",
    "    \n",
    "od = collections.OrderedDict()\n",
    "for k,v in sorted(d.items()):\n",
    "    od[k[6:]] = v\n",
    "\n",
    "    \n",
    "plt.figure(figsize=(15,5))\n",
    "plt.bar(range(len(od)), list(od.values()), align='center')\n",
    "plt.xticks(range(len(od)), list(od.keys()))\n",
    "plt.xlabel(\"Days\")\n",
    "plt.ylabel(\"Zeroresult rate\")\n",
    "plt.show()"
   ]
  },
  {
   "cell_type": "markdown",
   "metadata": {},
   "source": [
    "## Let session length be approximately the time between the first event and the last event in a session. Choose a variable from the dataset and describe its relationship to session length. Visualize the relationship.\n"
   ]
  },
  {
   "cell_type": "code",
   "execution_count": 9,
   "metadata": {},
   "outputs": [],
   "source": [
    "A = clickthroughdata[clickthroughdata.group == 'a']\n",
    "B = clickthroughdata[clickthroughdata.group == 'b']\n",
    "\n",
    "group_A = A.groupby(['session_id'])['time']\n",
    "group_B = B.groupby(['session_id'])['time']"
   ]
  },
  {
   "cell_type": "code",
   "execution_count": 10,
   "metadata": {},
   "outputs": [],
   "source": [
    "start_A = group_A.min() #minimum time for a session id would be the time for first event\n",
    "end_A = group_A.max() #maximum time for a session id would be the time for last event\n",
    "\n",
    "start_B = group_B.min() #minimum time for a session id would be the time for first event\n",
    "end_B = group_B.max() #maximum time for a session id would be the time for last event\n"
   ]
  },
  {
   "cell_type": "code",
   "execution_count": 11,
   "metadata": {
    "scrolled": true
   },
   "outputs": [
    {
     "data": {
      "text/plain": [
       "(Timedelta('0 days 00:04:58.325216'), Timedelta('0 days 00:00:59.605231'))"
      ]
     },
     "execution_count": 11,
     "metadata": {},
     "output_type": "execute_result"
    }
   ],
   "source": [
    "(end_A - start_A).mean(),(end_B - start_B).mean()"
   ]
  },
  {
   "cell_type": "code",
   "execution_count": 12,
   "metadata": {},
   "outputs": [
    {
     "data": {
      "image/png": "[encoded data removed]",
      "text/plain": [
       "<Figure size 432x288 with 1 Axes>"
      ]
     },
     "metadata": {},
     "output_type": "display_data"
    }
   ],
   "source": [
    "plt.bar(range(2),[4.58,.59])\n",
    "plt.xticks(range(2),['Group a','Gorup b'])\n",
    "plt.ylabel(\"Time in minutes\")\n",
    "plt.title('Average session length by groups')\n",
    "plt.show()"
   ]
  },
  {
   "cell_type": "markdown",
   "metadata": {},
   "source": [
    "## Train and Test a simple Classifier to predict if a user is likely to click on one of the search result that appears. Transform the data accordingly. (Bonus points for writing a classifier from scratch) Choose appropriate metrics to measure the performance of your algorithm and visualize the predictions if possible.\n"
   ]
  },
  {
   "cell_type": "markdown",
   "metadata": {},
   "source": [
    "***Lets transfrom Data.***"
   ]
  },
  {
   "cell_type": "code",
   "execution_count": 46,
   "metadata": {},
   "outputs": [],
   "source": [
    "target = clickthroughdata.groupby(['session_id'])['checkin'].count() > 0 #making the target value to whether uer clicked or not\n",
    "clickthroughdata['clicked'] = clickthroughdata.session_id.apply(lambda x: target[x] )\n"
   ]
  },
  {
   "cell_type": "code",
   "execution_count": 47,
   "metadata": {},
   "outputs": [],
   "source": [
    "df = clickthroughdata[clickthroughdata.action == 'searchResultPage']"
   ]
  },
  {
   "cell_type": "code",
   "execution_count": 48,
   "metadata": {},
   "outputs": [],
   "source": [
    "df['day'] = clickthroughdata.time.apply(lambda x: x.day)\n",
    "df['hour'] = clickthroughdata.time.apply(lambda x: x.hour)"
   ]
  },
  {
   "cell_type": "code",
   "execution_count": 49,
   "metadata": {},
   "outputs": [
    {
     "name": "stdout",
     "output_type": "stream",
     "text": [
      "(123582, 5)\n"
     ]
    },
    {
     "data": {
      "text/html": [
       "<div>\n",
       "<style scoped>\n",
       "    .dataframe tbody tr th:only-of-type {\n",
       "        vertical-align: middle;\n",
       "    }\n",
       "\n",
       "    .dataframe tbody tr th {\n",
       "        vertical-align: top;\n",
       "    }\n",
       "\n",
       "    .dataframe thead th {\n",
       "        text-align: right;\n",
       "    }\n",
       "</style>\n",
       "<table border=\"1\" class=\"dataframe\">\n",
       "  <thead>\n",
       "    <tr style=\"text-align: right;\">\n",
       "      <th></th>\n",
       "      <th>group</th>\n",
       "      <th>n_results</th>\n",
       "      <th>clicked</th>\n",
       "      <th>day</th>\n",
       "      <th>hour</th>\n",
       "    </tr>\n",
       "  </thead>\n",
       "  <tbody>\n",
       "    <tr>\n",
       "      <th>0</th>\n",
       "      <td>b</td>\n",
       "      <td>5.0</td>\n",
       "      <td>True</td>\n",
       "      <td>1</td>\n",
       "      <td>10</td>\n",
       "    </tr>\n",
       "    <tr>\n",
       "      <th>1</th>\n",
       "      <td>a</td>\n",
       "      <td>10.0</td>\n",
       "      <td>False</td>\n",
       "      <td>7</td>\n",
       "      <td>0</td>\n",
       "    </tr>\n",
       "    <tr>\n",
       "      <th>7</th>\n",
       "      <td>b</td>\n",
       "      <td>15.0</td>\n",
       "      <td>False</td>\n",
       "      <td>2</td>\n",
       "      <td>1</td>\n",
       "    </tr>\n",
       "    <tr>\n",
       "      <th>10</th>\n",
       "      <td>a</td>\n",
       "      <td>20.0</td>\n",
       "      <td>True</td>\n",
       "      <td>7</td>\n",
       "      <td>14</td>\n",
       "    </tr>\n",
       "    <tr>\n",
       "      <th>12</th>\n",
       "      <td>a</td>\n",
       "      <td>9.0</td>\n",
       "      <td>True</td>\n",
       "      <td>5</td>\n",
       "      <td>4</td>\n",
       "    </tr>\n",
       "  </tbody>\n",
       "</table>\n",
       "</div>"
      ],
      "text/plain": [
       "   group  n_results  clicked  day  hour\n",
       "0      b        5.0     True    1    10\n",
       "1      a       10.0    False    7     0\n",
       "7      b       15.0    False    2     1\n",
       "10     a       20.0     True    7    14\n",
       "12     a        9.0     True    5     4"
      ]
     },
     "execution_count": 49,
     "metadata": {},
     "output_type": "execute_result"
    }
   ],
   "source": [
    "#Dropping these columns as some of them are constant and some do not have relation to target\n",
    "df.drop(['uuid','timestamp','session_id','action','page_id','result_position','checkin','time','stamp'],inplace=True,axis=1)\n",
    "print(df.shape)\n",
    "df.head()\n"
   ]
  },
  {
   "cell_type": "code",
   "execution_count": 31,
   "metadata": {},
   "outputs": [],
   "source": [
    "target = df.clicked.values\n",
    "df.drop(['clicked'],axis=1,inplace=True)"
   ]
  },
  {
   "cell_type": "code",
   "execution_count": 32,
   "metadata": {},
   "outputs": [],
   "source": [
    "def plot_confusion_matrix(cm, classes,\n",
    "                          normalize=False,\n",
    "                          title='Confusion matrix',\n",
    "                          cmap=plt.cm.Blues):\n",
    "    \"\"\"\n",
    "    This function prints and plots the confusion matrix.\n",
    "    Normalization can be applied by setting `normalize=True`.\n",
    "    \"\"\"\n",
    "    if normalize:\n",
    "        cm = cm.astype('float') / cm.sum(axis=1)[:, np.newaxis]\n",
    "   \n",
    "    plt.imshow(cm, interpolation='nearest', cmap=cmap)\n",
    "    plt.title(title)\n",
    "    plt.colorbar()\n",
    "    tick_marks = np.arange(len(classes))\n",
    "    plt.xticks(tick_marks, classes, rotation=45)\n",
    "    plt.yticks(tick_marks, classes)\n",
    "\n",
    "    fmt = '.2f' if normalize else 'd'\n",
    "    thresh = cm.max() / 2.\n",
    "    for i, j in itertools.product(range(cm.shape[0]), range(cm.shape[1])):\n",
    "        plt.text(j, i, format(cm[i, j], fmt),\n",
    "                 horizontalalignment=\"center\",\n",
    "                 color=\"white\" if cm[i, j] > thresh else \"black\")\n",
    "\n",
    "    plt.tight_layout()\n",
    "    plt.ylabel('True label')\n",
    "    plt.xlabel('Predicted label')\n"
   ]
  },
  {
   "cell_type": "code",
   "execution_count": 33,
   "metadata": {},
   "outputs": [],
   "source": [
    "df.group.replace({'a':0,'b':1},inplace=True)"
   ]
  },
  {
   "cell_type": "markdown",
   "metadata": {},
   "source": [
    "***Using LightGBM as it as an ensemble type classifier.***"
   ]
  },
  {
   "cell_type": "code",
   "execution_count": 34,
   "metadata": {
    "scrolled": true
   },
   "outputs": [],
   "source": [
    "score =  cross_val_score(LGBMClassifier(n_estimators=40,class_weight='balanced'\n",
    "                                        ,num_leaves=15),df,target,scoring='roc_auc',cv=5)"
   ]
  },
  {
   "cell_type": "code",
   "execution_count": 35,
   "metadata": {},
   "outputs": [
    {
     "name": "stdout",
     "output_type": "stream",
     "text": [
      "Auc of 5 fold CV:  0.7213573874016209\n"
     ]
    }
   ],
   "source": [
    "print('Auc of 5 fold CV: ',score.mean())"
   ]
  },
  {
   "cell_type": "code",
   "execution_count": 37,
   "metadata": {},
   "outputs": [],
   "source": [
    "predict = cross_val_predict(LGBMClassifier(n_estimators=40,class_weight='balanced',num_leaves=15),df,target,cv=5)"
   ]
  },
  {
   "cell_type": "code",
   "execution_count": 39,
   "metadata": {},
   "outputs": [
    {
     "data": {
      "image/png": "[encoded data removed]",
      "text/plain": [
       "<Figure size 432x288 with 2 Axes>"
      ]
     },
     "metadata": {},
     "output_type": "display_data"
    }
   ],
   "source": [
    "plot_confusion_matrix(metrics.confusion_matrix(target,predict),range(2),title=\"Confusion matrix for 5 fold CV\")"
   ]
  },
  {
   "cell_type": "code",
   "execution_count": 41,
   "metadata": {},
   "outputs": [
    {
     "name": "stdout",
     "output_type": "stream",
     "text": [
      "             precision    recall  f1-score   support\n",
      "\n",
      "      False       0.77      0.58      0.66     68874\n",
      "       True       0.60      0.78      0.68     54708\n",
      "\n",
      "avg / total       0.69      0.67      0.67    123582\n",
      "\n"
     ]
    }
   ],
   "source": [
    "print(metrics.classification_report(target,predict))\n"
   ]
  },
  {
   "cell_type": "code",
   "execution_count": 43,
   "metadata": {},
   "outputs": [],
   "source": [
    "l = LGBMClassifier(n_estimators=40,class_weight='balanced',num_leaves=15).fit(df,target)"
   ]
  },
  {
   "cell_type": "code",
   "execution_count": 44,
   "metadata": {},
   "outputs": [
    {
     "data": {
      "text/plain": [
       "<matplotlib.axes._subplots.AxesSubplot at 0x1c25c002390>"
      ]
     },
     "execution_count": 44,
     "metadata": {},
     "output_type": "execute_result"
    },
    {
     "data": {
      "image/png": "[encoded data removed]",
      "text/plain": [
       "<Figure size 432x288 with 1 Axes>"
      ]
     },
     "metadata": {},
     "output_type": "display_data"
    }
   ],
   "source": [
    "lgb.plot_importance(l)"
   ]
  },
  {
   "cell_type": "code",
   "execution_count": 50,
   "metadata": {
    "scrolled": false
   },
   "outputs": [
    {
     "data": {
      "text/plain": [
       "'1.gv.pdf'"
      ]
     },
     "execution_count": 50,
     "metadata": {},
     "output_type": "execute_result"
    }
   ],
   "source": [
    "graph = lgb.create_tree_digraph(l, tree_index=3, name='1') # saving the digram in pdf format\n",
    "graph.render(view=True)\n"
   ]
  },
  {
   "cell_type": "markdown",
   "metadata": {},
   "source": [
    "***Let's check if there is some relation to number of result in search with click.***"
   ]
  },
  {
   "cell_type": "code",
   "execution_count": 57,
   "metadata": {},
   "outputs": [
    {
     "data": {
      "text/plain": [
       "(13.716293521503035, 15.627878920815968)"
      ]
     },
     "execution_count": 57,
     "metadata": {},
     "output_type": "execute_result"
    }
   ],
   "source": [
    "df[df.clicked == False]['n_results'].mean(),df[df.clicked == True]['n_results'].mean()"
   ]
  },
  {
   "cell_type": "markdown",
   "metadata": {},
   "source": [
    "## Summary"
   ]
  },
  {
   "cell_type": "markdown",
   "metadata": {},
   "source": [
    " 1. Group A users tends to use website more than Group users B.\n",
    " 2. Group A users have high clickthrough rate means website have topics that are useful to them.\n",
    " 3. Zero result rate are nearly same for the both type of users.\n",
    " 4. More number of results usually does not mean that user will click on result.\n",
    " "
   ]
  },
  {
   "cell_type": "code",
   "execution_count": null,
   "metadata": {},
   "outputs": [],
   "source": []
  }
 ],
 "metadata": {
  "kernelspec": {
   "display_name": "Python 3",
   "language": "python",
   "name": "python3"
  },
  "language_info": {
   "codemirror_mode": {
    "name": "ipython",
    "version": 3
   },
   "file_extension": ".py",
   "mimetype": "text/x-python",
   "name": "python",
   "nbconvert_exporter": "python",
   "pygments_lexer": "ipython3",
   "version": "3.6.5"
  }
 },
 "nbformat": 4,
 "nbformat_minor": 2
}
