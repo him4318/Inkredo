{
 "cells": [
  {
   "cell_type": "code",
   "execution_count": 1,
   "metadata": {},
   "outputs": [],
   "source": [
    "import pandas as pd\n",
    "import numpy as np\n",
    "import datetime\n",
    "import matplotlib.pyplot as plt\n",
    "%matplotlib inline\n",
    "plt.style.use('ggplot')"
   ]
  },
  {
   "cell_type": "code",
   "execution_count": 2,
   "metadata": {
    "scrolled": true
   },
   "outputs": [],
   "source": [
    "data = pd.read_csv(r'events_log.csv')\n",
    "data.timestamp = data.timestamp.apply(lambda x: datetime.datetime.utcfromtimestamp(int(x/1000)))"
   ]
  },
  {
   "cell_type": "code",
   "execution_count": 3,
   "metadata": {},
   "outputs": [],
   "source": [
    "data['day'] = data.timestamp.apply(lambda x: pd.datetime.date(x).day)\n",
    "data['month'] = data.timestamp.apply(lambda x: pd.datetime.date(x).month)"
   ]
  },
  {
   "cell_type": "code",
   "execution_count": 4,
   "metadata": {},
   "outputs": [
    {
     "data": {
      "text/html": [
       "<div>\n",
       "<style scoped>\n",
       "    .dataframe tbody tr th:only-of-type {\n",
       "        vertical-align: middle;\n",
       "    }\n",
       "\n",
       "    .dataframe tbody tr th {\n",
       "        vertical-align: top;\n",
       "    }\n",
       "\n",
       "    .dataframe thead th {\n",
       "        text-align: right;\n",
       "    }\n",
       "</style>\n",
       "<table border=\"1\" class=\"dataframe\">\n",
       "  <thead>\n",
       "    <tr style=\"text-align: right;\">\n",
       "      <th></th>\n",
       "      <th>uuid</th>\n",
       "      <th>timestamp</th>\n",
       "      <th>session_id</th>\n",
       "      <th>group</th>\n",
       "      <th>action</th>\n",
       "      <th>checkin</th>\n",
       "      <th>page_id</th>\n",
       "      <th>n_results</th>\n",
       "      <th>result_position</th>\n",
       "      <th>day</th>\n",
       "      <th>month</th>\n",
       "    </tr>\n",
       "  </thead>\n",
       "  <tbody>\n",
       "    <tr>\n",
       "      <th>0</th>\n",
       "      <td>00000736167c507e8ec225bd9e71f9e5</td>\n",
       "      <td>2608-11-08 19:38:23</td>\n",
       "      <td>78245c2c3fba013a</td>\n",
       "      <td>b</td>\n",
       "      <td>searchResultPage</td>\n",
       "      <td>NaN</td>\n",
       "      <td>cbeb66d1bc1f1bc2</td>\n",
       "      <td>5.0</td>\n",
       "      <td>NaN</td>\n",
       "      <td>8</td>\n",
       "      <td>11</td>\n",
       "    </tr>\n",
       "    <tr>\n",
       "      <th>1</th>\n",
       "      <td>00000c69fe345268935463abbfa5d5b3</td>\n",
       "      <td>2608-11-08 21:16:45</td>\n",
       "      <td>c559c3be98dca8a4</td>\n",
       "      <td>a</td>\n",
       "      <td>searchResultPage</td>\n",
       "      <td>NaN</td>\n",
       "      <td>eb658e8722aad674</td>\n",
       "      <td>10.0</td>\n",
       "      <td>NaN</td>\n",
       "      <td>8</td>\n",
       "      <td>11</td>\n",
       "    </tr>\n",
       "    <tr>\n",
       "      <th>2</th>\n",
       "      <td>00003bfdab715ee59077a3670331b787</td>\n",
       "      <td>2608-11-08 19:55:45</td>\n",
       "      <td>760bf89817ce4b08</td>\n",
       "      <td>a</td>\n",
       "      <td>checkin</td>\n",
       "      <td>30.0</td>\n",
       "      <td>f99a9fc1f7fdd21e</td>\n",
       "      <td>NaN</td>\n",
       "      <td>NaN</td>\n",
       "      <td>8</td>\n",
       "      <td>11</td>\n",
       "    </tr>\n",
       "    <tr>\n",
       "      <th>3</th>\n",
       "      <td>0000465cd7c35ad2bdeafec953e08c1a</td>\n",
       "      <td>2608-11-08 19:57:02</td>\n",
       "      <td>fb905603d31b2071</td>\n",
       "      <td>a</td>\n",
       "      <td>checkin</td>\n",
       "      <td>60.0</td>\n",
       "      <td>e5626962a6939a75</td>\n",
       "      <td>NaN</td>\n",
       "      <td>10.0</td>\n",
       "      <td>8</td>\n",
       "      <td>11</td>\n",
       "    </tr>\n",
       "    <tr>\n",
       "      <th>4</th>\n",
       "      <td>000050cbb4ef5b42b16c4d2cf69e6358</td>\n",
       "      <td>2608-11-08 19:54:55</td>\n",
       "      <td>c2bf5e5172a892dc</td>\n",
       "      <td>a</td>\n",
       "      <td>checkin</td>\n",
       "      <td>30.0</td>\n",
       "      <td>787dd6a4c371cbf9</td>\n",
       "      <td>NaN</td>\n",
       "      <td>NaN</td>\n",
       "      <td>8</td>\n",
       "      <td>11</td>\n",
       "    </tr>\n",
       "  </tbody>\n",
       "</table>\n",
       "</div>"
      ],
      "text/plain": [
       "                               uuid            timestamp        session_id  \\\n",
       "0  00000736167c507e8ec225bd9e71f9e5  2608-11-08 19:38:23  78245c2c3fba013a   \n",
       "1  00000c69fe345268935463abbfa5d5b3  2608-11-08 21:16:45  c559c3be98dca8a4   \n",
       "2  00003bfdab715ee59077a3670331b787  2608-11-08 19:55:45  760bf89817ce4b08   \n",
       "3  0000465cd7c35ad2bdeafec953e08c1a  2608-11-08 19:57:02  fb905603d31b2071   \n",
       "4  000050cbb4ef5b42b16c4d2cf69e6358  2608-11-08 19:54:55  c2bf5e5172a892dc   \n",
       "\n",
       "  group            action  checkin           page_id  n_results  \\\n",
       "0     b  searchResultPage      NaN  cbeb66d1bc1f1bc2        5.0   \n",
       "1     a  searchResultPage      NaN  eb658e8722aad674       10.0   \n",
       "2     a           checkin     30.0  f99a9fc1f7fdd21e        NaN   \n",
       "3     a           checkin     60.0  e5626962a6939a75        NaN   \n",
       "4     a           checkin     30.0  787dd6a4c371cbf9        NaN   \n",
       "\n",
       "   result_position  day  month  \n",
       "0              NaN    8     11  \n",
       "1              NaN    8     11  \n",
       "2              NaN    8     11  \n",
       "3             10.0    8     11  \n",
       "4              NaN    8     11  "
      ]
     },
     "execution_count": 4,
     "metadata": {},
     "output_type": "execute_result"
    }
   ],
   "source": [
    "data.head(5)"
   ]
  },
  {
   "cell_type": "code",
   "execution_count": 5,
   "metadata": {},
   "outputs": [
    {
     "data": {
      "text/plain": [
       "uuid               400165\n",
       "timestamp            1131\n",
       "session_id          68028\n",
       "group                   2\n",
       "action                  3\n",
       "checkin                15\n",
       "page_id            176371\n",
       "n_results              92\n",
       "result_position       193\n",
       "day                     1\n",
       "month                   1\n",
       "dtype: int64"
      ]
     },
     "execution_count": 5,
     "metadata": {},
     "output_type": "execute_result"
    }
   ],
   "source": [
    "data.nunique()"
   ]
  },
  {
   "cell_type": "markdown",
   "metadata": {},
   "source": [
    "## What is their daily overall clickthrough rate? How does it vary between the groups?\n"
   ]
  },
  {
   "cell_type": "markdown",
   "metadata": {},
   "source": [
    "This data contain only one day user activity. So, I guess I have to find for that day only. For Overall clickthrough rate I am sampling data where the search results have some count as if there are no search result than user have nothing to click on.\n",
    "\n",
    "***Overall clickthrough rate:***"
   ]
  },
  {
   "cell_type": "code",
   "execution_count": 4,
   "metadata": {
    "scrolled": true
   },
   "outputs": [],
   "source": [
    "sessionids = data[(data.action == 'searchResultPage') & (~data.n_results.isna())].session_id.values\n",
    "clickthroughdata = data[data.session_id.isin(sessionids)]\n",
    "\n",
    "usercountwhoclicked = sum(clickthroughdata.groupby(['session_id'])['checkin'].count() > 0)\n",
    "totalusers = len(clickthroughdata.groupby(['session_id'])['checkin'].count())"
   ]
  },
  {
   "cell_type": "code",
   "execution_count": 7,
   "metadata": {},
   "outputs": [
    {
     "name": "stdout",
     "output_type": "stream",
     "text": [
      "Overall clickthrough rate : 0.3417462583332107\n"
     ]
    }
   ],
   "source": [
    "print(\"Overall clickthrough rate :\", usercountwhoclicked/totalusers)"
   ]
  },
  {
   "cell_type": "markdown",
   "metadata": {},
   "source": [
    "***variation between groups:***"
   ]
  },
  {
   "cell_type": "code",
   "execution_count": 94,
   "metadata": {},
   "outputs": [],
   "source": [
    "A = clickthroughdata[clickthroughdata.group == 'a']\n",
    "B = clickthroughdata[clickthroughdata.group == 'b']"
   ]
  },
  {
   "cell_type": "code",
   "execution_count": 11,
   "metadata": {},
   "outputs": [],
   "source": [
    "A_usercountwhoclicked = sum(A.groupby(['session_id'])['checkin'].count() > 0)\n",
    "A_totalusers = len(A.groupby(['session_id'])['checkin'].count())\n",
    "\n",
    "B_usercountwhoclicked = sum(B.groupby(['session_id'])['checkin'].count() > 0)\n",
    "B_totalusers = len(B.groupby(['session_id'])['checkin'].count())"
   ]
  },
  {
   "cell_type": "code",
   "execution_count": 12,
   "metadata": {},
   "outputs": [
    {
     "name": "stdout",
     "output_type": "stream",
     "text": [
      "Overall clickthrough rate for group(a) user: 0.5940176750509857\n",
      "Overall clickthrough rate for group(b) user: 0.14912667722093897\n"
     ]
    }
   ],
   "source": [
    "print(\"Overall clickthrough rate for group(a) user:\", A_usercountwhoclicked/A_totalusers)\n",
    "\n",
    "print(\"Overall clickthrough rate for group(b) user:\", B_usercountwhoclicked/B_totalusers)"
   ]
  },
  {
   "cell_type": "code",
   "execution_count": 39,
   "metadata": {},
   "outputs": [
    {
     "data": {
      "image/png": "[encoded data removed]",
      "text/plain": [
       "<Figure size 432x288 with 1 Axes>"
      ]
     },
     "metadata": {},
     "output_type": "display_data"
    }
   ],
   "source": [
    "plt.barh(range(2),[.594,.1491])\n",
    "plt.yticks(range(2),['Group a','Gorup b'])\n",
    "plt.title('Overall clickthrough rate by groups')\n",
    "plt.show()"
   ]
  },
  {
   "cell_type": "markdown",
   "metadata": {},
   "source": [
    "## Which result position do people tend to try first? How does it change day-to-day?\n"
   ]
  },
  {
   "cell_type": "markdown",
   "metadata": {},
   "source": [
    "## What is their daily overall zero results rate? How does it vary between the groups?\n"
   ]
  },
  {
   "cell_type": "code",
   "execution_count": 33,
   "metadata": {},
   "outputs": [],
   "source": [
    "zerosessionids = data[(data.action == 'searchResultPage') & (data.n_results.isnull())].session_id.values\n",
    "Zeroresult = data[data.session_id.isin(zerosessionids)]\n"
   ]
  },
  {
   "cell_type": "code",
   "execution_count": 29,
   "metadata": {},
   "outputs": [
    {
     "name": "stdout",
     "output_type": "stream",
     "text": [
      "zero results rate : 0.0\n"
     ]
    }
   ],
   "source": [
    "print(\"zero results rate :\", len(Zeroresult)/len(data))"
   ]
  },
  {
   "cell_type": "markdown",
   "metadata": {},
   "source": [
    "There are no search having results zero."
   ]
  },
  {
   "cell_type": "markdown",
   "metadata": {},
   "source": [
    "## Let session length be approximately the time between the first event and the last event in a session. Choose a variable from the dataset and describe its relationship to session length. Visualize the relationship.\n"
   ]
  },
  {
   "cell_type": "code",
   "execution_count": 52,
   "metadata": {},
   "outputs": [],
   "source": [
    "a = data.timestamp[1] - data.timestamp[2]"
   ]
  },
  {
   "cell_type": "code",
   "execution_count": 58,
   "metadata": {},
   "outputs": [
    {
     "data": {
      "text/plain": [
       "81.0"
      ]
     },
     "execution_count": 58,
     "metadata": {},
     "output_type": "execute_result"
    }
   ],
   "source": [
    "a.seconds/60"
   ]
  },
  {
   "cell_type": "code",
   "execution_count": 95,
   "metadata": {},
   "outputs": [],
   "source": [
    "A = clickthroughdata[clickthroughdata.group == 'a']\n",
    "B = clickthroughdata[clickthroughdata.group == 'b']\n",
    "\n",
    "group_A = A.groupby(['session_id'])['timestamp']\n",
    "group_B = B.groupby(['session_id'])['timestamp']"
   ]
  },
  {
   "cell_type": "code",
   "execution_count": 102,
   "metadata": {},
   "outputs": [],
   "source": [
    "start_A = group_A.min() #minimum time for a session id would be the time for first event\n",
    "end_A = group_A.max() #maximum time for a session id would be the time for last event\n",
    "\n",
    "start_B = group_B.min() #minimum time for a session id would be the time for first event\n",
    "end_B = group_B.max() #maximum time for a session id would be the time for last event\n"
   ]
  },
  {
   "cell_type": "code",
   "execution_count": 103,
   "metadata": {
    "scrolled": true
   },
   "outputs": [
    {
     "data": {
      "text/plain": [
       "(Timedelta('0 days 00:00:02.501359'), Timedelta('0 days 00:00:00.512262'))"
      ]
     },
     "execution_count": 103,
     "metadata": {},
     "output_type": "execute_result"
    }
   ],
   "source": [
    "(end_A - start_A).mean(),(end_B - start_B).mean()"
   ]
  },
  {
   "cell_type": "markdown",
   "metadata": {},
   "source": [
    "The timestamp given in the dataset is weird as there is hardly any gap between the first event and last event for each session id."
   ]
  },
  {
   "cell_type": "code",
   "execution_count": 109,
   "metadata": {},
   "outputs": [
    {
     "name": "stdout",
     "output_type": "stream",
     "text": [
      "time at first event:  2608-11-08 20:28:22\n",
      "time at last event:  2608-11-08 20:28:24\n",
      "max time of checkin:  420.0\n"
     ]
    }
   ],
   "source": [
    "print(\"time at first event: \",min(clickthroughdata[clickthroughdata.session_id == 'fff5341be7e1b6cf'].timestamp)) \n",
    "print(\"time at last event: \",max(clickthroughdata[clickthroughdata.session_id == 'fff5341be7e1b6cf'].timestamp)) \n",
    "print(\"max time of checkin: \",max(clickthroughdata[clickthroughdata.session_id == 'fff5341be7e1b6cf'].checkin)) \n",
    "\n",
    "## Didn't understood why check in time is that high when the gap between first event and last event is only 2 sec."
   ]
  },
  {
   "cell_type": "code",
   "execution_count": 113,
   "metadata": {},
   "outputs": [
    {
     "data": {
      "image/png": "[encoded data removed]",
      "text/plain": [
       "<Figure size 432x288 with 1 Axes>"
      ]
     },
     "metadata": {},
     "output_type": "display_data"
    }
   ],
   "source": [
    "plt.bar(range(2),[2.501359,.512262])\n",
    "plt.xticks(range(2),['Group a','Gorup b'])\n",
    "plt.ylabel(\"Seconds\")\n",
    "plt.title('Average session length by groups')\n",
    "plt.show()"
   ]
  },
  {
   "cell_type": "code",
   "execution_count": 115,
   "metadata": {},
   "outputs": [
    {
     "data": {
      "text/plain": [
       "(298908, 100547)"
      ]
     },
     "execution_count": 115,
     "metadata": {},
     "output_type": "execute_result"
    }
   ],
   "source": [
    "len(A) , len(B)"
   ]
  },
  {
   "cell_type": "code",
   "execution_count": null,
   "metadata": {},
   "outputs": [],
   "source": []
  }
 ],
 "metadata": {
  "kernelspec": {
   "display_name": "Python 3",
   "language": "python",
   "name": "python3"
  },
  "language_info": {
   "codemirror_mode": {
    "name": "ipython",
    "version": 3
   },
   "file_extension": ".py",
   "mimetype": "text/x-python",
   "name": "python",
   "nbconvert_exporter": "python",
   "pygments_lexer": "ipython3",
   "version": "3.6.5"
  }
 },
 "nbformat": 4,
 "nbformat_minor": 2
}
